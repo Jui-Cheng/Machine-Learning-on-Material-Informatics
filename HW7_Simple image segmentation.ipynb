{
 "cells": [
  {
   "cell_type": "code",
   "execution_count": 1,
   "id": "ae2b67a0-8d05-4758-87a5-de02506abd07",
   "metadata": {},
   "outputs": [
    {
     "data": {
      "image/png": "[encoded data removed]",
      "text/plain": [
       "<Figure size 432x288 with 1 Axes>"
      ]
     },
     "metadata": {
      "needs_background": "light"
     },
     "output_type": "display_data"
    }
   ],
   "source": [
    "import numpy as np\n",
    "import matplotlib.pyplot as plt\n",
    "\n",
    "data = np.array(\n",
    "    [[0, 0, 0, 0, 0, 0, 0, 0, 0, 0],\n",
    "    [0, 1, 1, 1, 1, 0, 0, 0, 1, 1], \n",
    "    [0, 0, 1, 1, 1, 0, 1, 1, 1, 1], \n",
    "    [0, 0, 1, 1, 0, 0, 1, 1, 1, 1],\n",
    "    [0, 1, 1, 1, 0, 0, 1, 1, 1, 0], \n",
    "    [0, 0, 0, 0, 0, 0, 0, 0, 1, 0],\n",
    "    [0, 0, 0, 1, 1, 1, 0, 0, 1, 0], \n",
    "    [0, 0, 0, 1, 1, 1, 1, 0, 0, 0],\n",
    "    [0, 0, 0, 1, 1, 1, 1, 0, 0, 0], \n",
    "    [0, 0, 0, 0, 0, 0, 1, 0, 0, 0]]\n",
    ")\n",
    "plt.imshow(data, cmap='binary')\n",
    "plt.show()"
   ]
  },
  {
   "cell_type": "code",
   "execution_count": 2,
   "id": "33e6e6df-eff7-4917-9607-08684819b0a9",
   "metadata": {},
   "outputs": [
    {
     "name": "stdout",
     "output_type": "stream",
     "text": [
      "========================================\n",
      "The island 1\n",
      "The size of this island is 12\n"
     ]
    },
    {
     "data": {
      "image/png": "[encoded data removed]",
      "text/plain": [
       "<Figure size 432x288 with 1 Axes>"
      ]
     },
     "metadata": {
      "needs_background": "light"
     },
     "output_type": "display_data"
    },
    {
     "name": "stdout",
     "output_type": "stream",
     "text": [
      "========================================\n",
      "The island 2\n",
      "The size of this island is 15\n"
     ]
    },
    {
     "data": {
      "image/png": "[encoded data removed]",
      "text/plain": [
       "<Figure size 432x288 with 1 Axes>"
      ]
     },
     "metadata": {
      "needs_background": "light"
     },
     "output_type": "display_data"
    },
    {
     "name": "stdout",
     "output_type": "stream",
     "text": [
      "========================================\n",
      "The island 3\n",
      "The size of this island is 12\n"
     ]
    },
    {
     "data": {
      "image/png": "[encoded data removed]",
      "text/plain": [
       "<Figure size 432x288 with 1 Axes>"
      ]
     },
     "metadata": {
      "needs_background": "light"
     },
     "output_type": "display_data"
    },
    {
     "name": "stdout",
     "output_type": "stream",
     "text": [
      "Total number of islands is 3\n"
     ]
    }
   ],
   "source": [
    "b=[]\n",
    "n=len(data)\n",
    "count=0\n",
    "island=0\n",
    "size=0\n",
    "new_data=data.copy()\n",
    "block=[]\n",
    "block.append(np.zeros((n,n)))\n",
    "#所有1的位置\n",
    "for i in range(n):\n",
    "    for j in range(n):\n",
    "        if data[i,j]==1:\n",
    "            b.append([j,i])\n",
    "# 判斷\n",
    "for c in b:\n",
    "    #buffer歸零\n",
    "    buffer=[0]\n",
    "    \n",
    "    #如果checked(2),就跳迴圈\n",
    "    if data[c[1],c[0]]==2:\n",
    "        continue\n",
    "    \n",
    "    #計算island數量\n",
    "    print(\"========================================\")\n",
    "    island+=1\n",
    "    size=0\n",
    "    print(\"The island\",island)\n",
    "    \n",
    "    #初步尋找矩陣值不為零的座標\n",
    "    if c[0]+1!=n: #邊界條件\n",
    "        if data[c[1],c[0]+1]==1: # x+1 位置判斷(往右一格)\n",
    "            data[c[1],c[0]+1]=3\n",
    "            buffer.append([c[0]+1,c[1]])\n",
    "            count+=1\n",
    "    if c[0]-1!=-1:\n",
    "        if data[c[1],c[0]-1]==1: # x-1 位置判斷(往左一格)\n",
    "            data[c[1],c[0]-1]=3\n",
    "            buffer.append([c[0]-1,c[1]])\n",
    "            count+=1\n",
    "    if c[1]+1!=n:\n",
    "        if data[c[1]+1,c[0]]==1: # y+1 位置判斷(往下一格)\n",
    "            data[c[1]+1,c[0]]=3\n",
    "            buffer.append([c[0],c[1]+1])\n",
    "            count+=1\n",
    "    if c[1]-1!=-1:\n",
    "        if data[c[1]-1,c[0]]==1: # y-1 位置判斷(往上一格)\n",
    "            data[c[1]-1,c[0]]=3\n",
    "            buffer.append([c[0],c[1]-1])\n",
    "            count+=1\n",
    "    \n",
    "    #將第一個不為零的矩陣位置改為checked並印出\n",
    "    data[c[1],c[0]]=2\n",
    "    size+=1\n",
    "        \n",
    "    #增加buffer格數並印出buffer\n",
    "    for l in range(count,n+5):\n",
    "        buffer.append([0,0])\n",
    "\n",
    "    #buffer功能\n",
    "    while buffer[count]!=0:\n",
    "        size+=1\n",
    "        #偵測到1的數量\n",
    "        add=0\n",
    "        if buffer[count][0]+1!=n: #邊界條件\n",
    "            if data[buffer[count][1],buffer[count][0]+1]==1: # x+1 位置判斷(往右一格)\n",
    "                data[buffer[count][1],buffer[count][0]+1]=3 #將值命為pulled(3)\n",
    "                add+=1\n",
    "                buffer[count+add]=[buffer[count][0]+1,buffer[count][1]] #往buffer後一格放\n",
    "        if buffer[count][0]-1!=-1:\n",
    "            if data[buffer[count][1],buffer[count][0]-1]==1: # x-1 位置判斷(往左一格)\n",
    "                data[buffer[count][1],buffer[count][0]-1]=3\n",
    "                add+=1\n",
    "                buffer[count+add]=[buffer[count][0]-1,buffer[count][1]]\n",
    "        if buffer[count][1]+1!=n:\n",
    "            if data[buffer[count][1]+1,buffer[count][0]]==1: # y+1 位置判斷(往下一格)\n",
    "                data[buffer[count][1]+1,buffer[count][0]]=3\n",
    "                add+=1\n",
    "                buffer[count+add]=[buffer[count][0],buffer[count][1]+1]\n",
    "        if buffer[count][1]-1!=-1:\n",
    "            if data[buffer[count][1]-1,buffer[count][0]]==1: # y-1 位置判斷(往上一格)\n",
    "                data[buffer[count][1]-1,buffer[count][0]]=3\n",
    "                add+=1\n",
    "                buffer[count+add]=[buffer[count][0],buffer[count][1]-1]\n",
    "            \n",
    "        data[buffer[count][1],buffer[count][0]]=2 #將目前的值令checked(2)\n",
    "        for k in range(count,count+add+1): #將buffer座標全部往前移\n",
    "            buffer[k]=buffer[k+1]\n",
    "        count=count+add-1 #接下來要測的座標\n",
    "    \n",
    "    if count==0:\n",
    "        print(\"The size of this island is\",size)\n",
    "    block.append(data-new_data)\n",
    "    plt.imshow(block[island]-block[island-1], cmap='binary')\n",
    "    plt.show()\n",
    "print(\"Total number of islands is\",island)"
   ]
  },
  {
   "cell_type": "code",
   "execution_count": null,
   "id": "4d26846f-bf48-47df-a0e1-d4bda0fccc59",
   "metadata": {},
   "outputs": [],
   "source": []
  }
 ],
 "metadata": {
  "kernelspec": {
   "display_name": "Python 3 (ipykernel)",
   "language": "python",
   "name": "python3"
  },
  "language_info": {
   "codemirror_mode": {
    "name": "ipython",
    "version": 3
   },
   "file_extension": ".py",
   "mimetype": "text/x-python",
   "name": "python",
   "nbconvert_exporter": "python",
   "pygments_lexer": "ipython3",
   "version": "3.8.12"
  }
 },
 "nbformat": 4,
 "nbformat_minor": 5
}
